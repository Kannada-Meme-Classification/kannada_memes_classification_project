{
 "cells": [
  {
   "cell_type": "code",
   "execution_count": 13,
   "id": "f4cf2c96",
   "metadata": {},
   "outputs": [],
   "source": [
    "import pandas as pd\n",
    "import os\n",
    "import numpy as np\n",
    "import torch\n",
    "import torchvision.transforms as transforms\n",
    "from torch.utils.data import Dataset, DataLoader\n",
    "from transformers import AutoTokenizer, AutoModel\n",
    "from PIL import Image\n",
    "from torchvision.models import resnet50\n",
    "from torch import nn\n",
    "from sklearn.model_selection import train_test_split\n",
    "from sklearn.utils.class_weight import compute_class_weight\n",
    "from sklearn.metrics import classification_report"
   ]
  },
  {
   "cell_type": "code",
   "execution_count": 14,
   "id": "2bbef4a6",
   "metadata": {},
   "outputs": [
    {
     "data": {
      "text/html": [
       "<div>\n",
       "<style scoped>\n",
       "    .dataframe tbody tr th:only-of-type {\n",
       "        vertical-align: middle;\n",
       "    }\n",
       "\n",
       "    .dataframe tbody tr th {\n",
       "        vertical-align: top;\n",
       "    }\n",
       "\n",
       "    .dataframe thead th {\n",
       "        text-align: right;\n",
       "    }\n",
       "</style>\n",
       "<table border=\"1\" class=\"dataframe\">\n",
       "  <thead>\n",
       "    <tr style=\"text-align: right;\">\n",
       "      <th></th>\n",
       "      <th>image</th>\n",
       "      <th>text</th>\n",
       "      <th>label_name</th>\n",
       "      <th>label</th>\n",
       "    </tr>\n",
       "  </thead>\n",
       "  <tbody>\n",
       "    <tr>\n",
       "      <th>0</th>\n",
       "      <td>1000161298.jpg</td>\n",
       "      <td>ಹುಡಗ ವಾಂತಿ ಮಾಡಿದ್ರ\\n\"BB ಬಂದಿನೂ ಮನೆಹಾಳ” ಅಂತಾರ,\\...</td>\n",
       "      <td>hateful</td>\n",
       "      <td>1</td>\n",
       "    </tr>\n",
       "    <tr>\n",
       "      <th>1</th>\n",
       "      <td>1000161301.jpg</td>\n",
       "      <td>ಸಾಲ ಮಾಡೋದು ಸವಾಸ ದೋಷದಿಂದ ಅಂತೆ ಬರೋದು ಹೌದ\\n</td>\n",
       "      <td>non-hateful</td>\n",
       "      <td>0</td>\n",
       "    </tr>\n",
       "    <tr>\n",
       "      <th>2</th>\n",
       "      <td>1000161304.jpg</td>\n",
       "      <td>ಮುಂದೆ ಅತ್ತಿ ಆದಾಗ ಸೊಸೆ ಇಷ್ಟ.\\nಆಗಲ್ಲ</td>\n",
       "      <td>hateful</td>\n",
       "      <td>1</td>\n",
       "    </tr>\n",
       "    <tr>\n",
       "      <th>3</th>\n",
       "      <td>1000161307.jpg</td>\n",
       "      <td>ರೀ ನಂದಿನಿ ಅವೋ ನೀವು 21 AGE ಅಲ್ಲಿ ಬೆನ್ನು ನನ್ನು ಅ...</td>\n",
       "      <td>non-hateful</td>\n",
       "      <td>0</td>\n",
       "    </tr>\n",
       "    <tr>\n",
       "      <th>4</th>\n",
       "      <td>1000161336.jpg</td>\n",
       "      <td>ಕಾಲೇಜಿನಲ್ಲಿ ಇಂಗ್ಲಿಷ್ ತರಗತಿ ನಡೆಯುತ್ತಿತ್ತು. ಗುಂಡ...</td>\n",
       "      <td>non-hateful</td>\n",
       "      <td>0</td>\n",
       "    </tr>\n",
       "    <tr>\n",
       "      <th>...</th>\n",
       "      <td>...</td>\n",
       "      <td>...</td>\n",
       "      <td>...</td>\n",
       "      <td>...</td>\n",
       "    </tr>\n",
       "    <tr>\n",
       "      <th>135</th>\n",
       "      <td>images (72).jpeg</td>\n",
       "      <td>ಮುಖವಾ ನೊಳಗೆ.\\nನಿಯತ್ನಾಗೆಡಟಡ\\nಇಲ್ಲಿ ನಿನಗೆ ಯಾವ ಬೆ...</td>\n",
       "      <td>non-hateful</td>\n",
       "      <td>0</td>\n",
       "    </tr>\n",
       "    <tr>\n",
       "      <th>136</th>\n",
       "      <td>images (74).jpeg</td>\n",
       "      <td>ಹುಡುಗ್ರು ಮಾತಲ್ಲೇ ಮನೆ\\nಕಟ್ಟಾರೆ ಅಂತಾರೆ.\\nಆದರೇ......</td>\n",
       "      <td>hateful</td>\n",
       "      <td>1</td>\n",
       "    </tr>\n",
       "    <tr>\n",
       "      <th>137</th>\n",
       "      <td>images (84).jpeg</td>\n",
       "      <td>ಕತ್ತಲ ಕಾಮುಕ ಕೇರಳದಲ್ಲಿ\\nಲಾಕ್‌!</td>\n",
       "      <td>hateful</td>\n",
       "      <td>1</td>\n",
       "    </tr>\n",
       "    <tr>\n",
       "      <th>138</th>\n",
       "      <td>images (87).jpeg</td>\n",
       "      <td>ಕೈಗೆ ಕೊಟ್ರು\\nಕ್ಯಾಚ್ ಹಿಡಿಯಲ್ಲೋ\\nಯಾಕ್ರೋ ಉರಸ್ತೀರಾ</td>\n",
       "      <td>non-hateful</td>\n",
       "      <td>0</td>\n",
       "    </tr>\n",
       "    <tr>\n",
       "      <th>139</th>\n",
       "      <td>images (89).jpeg</td>\n",
       "      <td>ಮಗ SSLC ಫೇಲ್. ಕೇಕ್ ಕಟ್ ಮಾಡಿಸಿದ ಪೋಷಕರು..!</td>\n",
       "      <td>non-hateful</td>\n",
       "      <td>0</td>\n",
       "    </tr>\n",
       "  </tbody>\n",
       "</table>\n",
       "<p>140 rows × 4 columns</p>\n",
       "</div>"
      ],
      "text/plain": [
       "                image                                               text  \\\n",
       "0      1000161298.jpg  ಹುಡಗ ವಾಂತಿ ಮಾಡಿದ್ರ\\n\"BB ಬಂದಿನೂ ಮನೆಹಾಳ” ಅಂತಾರ,\\...   \n",
       "1      1000161301.jpg          ಸಾಲ ಮಾಡೋದು ಸವಾಸ ದೋಷದಿಂದ ಅಂತೆ ಬರೋದು ಹೌದ\\n    \n",
       "2      1000161304.jpg                 ಮುಂದೆ ಅತ್ತಿ ಆದಾಗ ಸೊಸೆ ಇಷ್ಟ.\\nಆಗಲ್ಲ   \n",
       "3      1000161307.jpg  ರೀ ನಂದಿನಿ ಅವೋ ನೀವು 21 AGE ಅಲ್ಲಿ ಬೆನ್ನು ನನ್ನು ಅ...   \n",
       "4      1000161336.jpg  ಕಾಲೇಜಿನಲ್ಲಿ ಇಂಗ್ಲಿಷ್ ತರಗತಿ ನಡೆಯುತ್ತಿತ್ತು. ಗುಂಡ...   \n",
       "..                ...                                                ...   \n",
       "135  images (72).jpeg  ಮುಖವಾ ನೊಳಗೆ.\\nನಿಯತ್ನಾಗೆಡಟಡ\\nಇಲ್ಲಿ ನಿನಗೆ ಯಾವ ಬೆ...   \n",
       "136  images (74).jpeg  ಹುಡುಗ್ರು ಮಾತಲ್ಲೇ ಮನೆ\\nಕಟ್ಟಾರೆ ಅಂತಾರೆ.\\nಆದರೇ......   \n",
       "137  images (84).jpeg                      ಕತ್ತಲ ಕಾಮುಕ ಕೇರಳದಲ್ಲಿ\\nಲಾಕ್‌!   \n",
       "138  images (87).jpeg     ಕೈಗೆ ಕೊಟ್ರು\\nಕ್ಯಾಚ್ ಹಿಡಿಯಲ್ಲೋ\\nಯಾಕ್ರೋ ಉರಸ್ತೀರಾ   \n",
       "139  images (89).jpeg           ಮಗ SSLC ಫೇಲ್. ಕೇಕ್ ಕಟ್ ಮಾಡಿಸಿದ ಪೋಷಕರು..!   \n",
       "\n",
       "      label_name  label  \n",
       "0        hateful      1  \n",
       "1    non-hateful      0  \n",
       "2        hateful      1  \n",
       "3    non-hateful      0  \n",
       "4    non-hateful      0  \n",
       "..           ...    ...  \n",
       "135  non-hateful      0  \n",
       "136      hateful      1  \n",
       "137      hateful      1  \n",
       "138  non-hateful      0  \n",
       "139  non-hateful      0  \n",
       "\n",
       "[140 rows x 4 columns]"
      ]
     },
     "execution_count": 14,
     "metadata": {},
     "output_type": "execute_result"
    }
   ],
   "source": [
    "df = pd.read_csv(r\"C:\\Users\\HP\\Desktop\\meme_project\\meme_1.csv\").dropna()\n",
    "df"
   ]
  },
  {
   "cell_type": "code",
   "execution_count": 15,
   "id": "bbda3c9b",
   "metadata": {},
   "outputs": [],
   "source": [
    "# Compute class weights\n",
    "class_weights = compute_class_weight('balanced', classes=np.unique(df['label']), y=df['label'])\n",
    "class_weights = torch.tensor(class_weights, dtype=torch.float)"
   ]
  },
  {
   "cell_type": "code",
   "execution_count": 16,
   "id": "c0a8df18-d96d-40bd-84e6-e5f3a7393cd6",
   "metadata": {},
   "outputs": [
    {
     "data": {
      "text/plain": [
       "BertModel(\n",
       "  (embeddings): BertEmbeddings(\n",
       "    (word_embeddings): Embedding(119547, 768, padding_idx=0)\n",
       "    (position_embeddings): Embedding(512, 768)\n",
       "    (token_type_embeddings): Embedding(2, 768)\n",
       "    (LayerNorm): LayerNorm((768,), eps=1e-12, elementwise_affine=True)\n",
       "    (dropout): Dropout(p=0.1, inplace=False)\n",
       "  )\n",
       "  (encoder): BertEncoder(\n",
       "    (layer): ModuleList(\n",
       "      (0-11): 12 x BertLayer(\n",
       "        (attention): BertAttention(\n",
       "          (self): BertSdpaSelfAttention(\n",
       "            (query): Linear(in_features=768, out_features=768, bias=True)\n",
       "            (key): Linear(in_features=768, out_features=768, bias=True)\n",
       "            (value): Linear(in_features=768, out_features=768, bias=True)\n",
       "            (dropout): Dropout(p=0.1, inplace=False)\n",
       "          )\n",
       "          (output): BertSelfOutput(\n",
       "            (dense): Linear(in_features=768, out_features=768, bias=True)\n",
       "            (LayerNorm): LayerNorm((768,), eps=1e-12, elementwise_affine=True)\n",
       "            (dropout): Dropout(p=0.1, inplace=False)\n",
       "          )\n",
       "        )\n",
       "        (intermediate): BertIntermediate(\n",
       "          (dense): Linear(in_features=768, out_features=3072, bias=True)\n",
       "          (intermediate_act_fn): GELUActivation()\n",
       "        )\n",
       "        (output): BertOutput(\n",
       "          (dense): Linear(in_features=3072, out_features=768, bias=True)\n",
       "          (LayerNorm): LayerNorm((768,), eps=1e-12, elementwise_affine=True)\n",
       "          (dropout): Dropout(p=0.1, inplace=False)\n",
       "        )\n",
       "      )\n",
       "    )\n",
       "  )\n",
       "  (pooler): BertPooler(\n",
       "    (dense): Linear(in_features=768, out_features=768, bias=True)\n",
       "    (activation): Tanh()\n",
       "  )\n",
       ")"
      ]
     },
     "execution_count": 16,
     "metadata": {},
     "output_type": "execute_result"
    }
   ],
   "source": [
    "# Load tokenizer and text model (mBERT)\n",
    "tokenizer = AutoTokenizer.from_pretrained(\"bert-base-multilingual-cased\")\n",
    "text_model = AutoModel.from_pretrained(\"bert-base-multilingual-cased\")\n",
    "text_model.eval()\n"
   ]
  },
  {
   "cell_type": "code",
   "execution_count": 17,
   "id": "f1bc1739",
   "metadata": {},
   "outputs": [
    {
     "name": "stderr",
     "output_type": "stream",
     "text": [
      "C:\\Users\\HP\\anaconda3\\envs\\tf38\\lib\\site-packages\\torchvision\\models\\_utils.py:208: UserWarning: The parameter 'pretrained' is deprecated since 0.13 and may be removed in the future, please use 'weights' instead.\n",
      "  warnings.warn(\n",
      "C:\\Users\\HP\\anaconda3\\envs\\tf38\\lib\\site-packages\\torchvision\\models\\_utils.py:223: UserWarning: Arguments other than a weight enum or `None` for 'weights' are deprecated since 0.13 and may be removed in the future. The current behavior is equivalent to passing `weights=ResNet50_Weights.IMAGENET1K_V1`. You can also use `weights=ResNet50_Weights.DEFAULT` to get the most up-to-date weights.\n",
      "  warnings.warn(msg)\n"
     ]
    }
   ],
   "source": [
    "# Enhanced image transforms with augmentation\n",
    "transform = transforms.Compose([\n",
    "    transforms.Resize((224, 224)),\n",
    "    transforms.RandomHorizontalFlip(),\n",
    "    transforms.RandomRotation(10),\n",
    "    transforms.ColorJitter(brightness=0.2, contrast=0.2),\n",
    "    transforms.ToTensor()\n",
    "])\n",
    "\n",
    "# Load image model\n",
    "image_model = resnet50(pretrained=True)\n",
    "image_model = nn.Sequential(*list(image_model.children())[:-1])"
   ]
  },
  {
   "cell_type": "code",
   "execution_count": 18,
   "id": "c99e6021",
   "metadata": {},
   "outputs": [],
   "source": [
    "class MemeDataset(Dataset):\n",
    "    def __init__(self, df, image_folder):\n",
    "        self.df = df\n",
    "        self.image_folder = image_folder\n",
    "\n",
    "    def __len__(self):\n",
    "        return len(self.df)\n",
    "\n",
    "    def __getitem__(self, idx):\n",
    "        row = self.df.iloc[idx]\n",
    "        image_path = os.path.join(self.image_folder, row['image'])\n",
    "        image = Image.open(image_path).convert('RGB')\n",
    "        image_tensor = transform(image)\n",
    "\n",
    "        inputs = tokenizer(row['text'], return_tensors=\"pt\", truncation=True, padding=True)\n",
    "        text_emb = text_model(**inputs).last_hidden_state.mean(dim=1).squeeze()\n",
    "\n",
    "        with torch.no_grad():\n",
    "            image_emb = image_model(image_tensor.unsqueeze(0)).squeeze()\n",
    "\n",
    "        label = torch.tensor(row['label'], dtype=torch.long)\n",
    "        return torch.cat((image_emb, text_emb), dim=0), label"
   ]
  },
  {
   "cell_type": "code",
   "execution_count": 19,
   "id": "f16d1ba7",
   "metadata": {},
   "outputs": [],
   "source": [
    "\n",
    "# Train-test split\n",
    "train_df, test_df = train_test_split(df, test_size=0.2, stratify=df['label'], random_state=42)\n",
    "\n",
    "# Use raw strings for Windows file paths to avoid escape issues\n",
    "image_folder = r\"C:\\Users\\HP\\Desktop\\MEME\"\n",
    "\n",
    "# Create dataset and data loaders\n",
    "train_dataset = MemeDataset(train_df, image_folder)\n",
    "test_dataset = MemeDataset(test_df, image_folder)\n",
    "\n",
    "train_loader = DataLoader(train_dataset, batch_size=4, shuffle=True)\n",
    "test_loader = DataLoader(test_dataset, batch_size=4)\n"
   ]
  },
  {
   "cell_type": "code",
   "execution_count": 20,
   "id": "51e79433",
   "metadata": {},
   "outputs": [],
   "source": [
    "class MultiModalClassifier(nn.Module):\n",
    "    def __init__(self):\n",
    "        super(MultiModalClassifier, self).__init__()\n",
    "        self.classifier = nn.Sequential(\n",
    "            nn.Linear(2048 + 768, 512),\n",
    "            nn.ReLU(),\n",
    "            nn.Dropout(0.3),\n",
    "            nn.Linear(512, 2)\n",
    "        )\n",
    "\n",
    "    def forward(self, x):\n",
    "        return self.classifier(x)\n",
    "\n",
    "model = MultiModalClassifier()\n",
    "criterion = nn.CrossEntropyLoss(weight=class_weights, label_smoothing=0.1)\n",
    "optimizer = torch.optim.Adam(list(model.parameters()) + list(text_model.parameters()), lr=1e-4)"
   ]
  },
  {
   "cell_type": "code",
   "execution_count": 21,
   "id": "1b3228a5",
   "metadata": {},
   "outputs": [
    {
     "name": "stdout",
     "output_type": "stream",
     "text": [
      "Epoch 1, Loss: 20.6300\n",
      "Epoch 2, Loss: 19.9480\n",
      "Epoch 3, Loss: 20.1107\n",
      "Epoch 4, Loss: 20.6762\n",
      "Epoch 5, Loss: 20.2731\n"
     ]
    }
   ],
   "source": [
    "import matplotlib.pyplot as plt\n",
    "\n",
    "loss_history = []\n",
    "lr_history = []\n",
    "\n",
    "for epoch in range(5):\n",
    "    model.train()\n",
    "    total_loss = 0\n",
    "    for inputs, labels in train_loader:\n",
    "        outputs = model(inputs)\n",
    "        loss = criterion(outputs, labels)\n",
    "\n",
    "        optimizer.zero_grad()\n",
    "        loss.backward()\n",
    "        optimizer.step()\n",
    "\n",
    "        total_loss += loss.item()\n",
    "        lr_history.append(optimizer.param_groups[0]['lr'])\n",
    "\n",
    "    loss_history.append(total_loss)\n",
    "    print(f\"Epoch {epoch+1}, Loss: {total_loss:.4f}\")"
   ]
  },
  {
   "cell_type": "code",
   "execution_count": 22,
   "id": "95e5523d",
   "metadata": {},
   "outputs": [
    {
     "data": {
      "image/png": "[encoded data removed]",
      "text/plain": [
       "<Figure size 1000x400 with 2 Axes>"
      ]
     },
     "metadata": {},
     "output_type": "display_data"
    }
   ],
   "source": [
    "# Plotting learning curve\n",
    "plt.figure(figsize=(10, 4))\n",
    "plt.subplot(1, 2, 1)\n",
    "plt.plot(range(1, len(loss_history)+1), loss_history, marker='o')\n",
    "plt.title('Training Loss per Epoch')\n",
    "plt.xlabel('Epoch')\n",
    "plt.ylabel('Loss')\n",
    "\n",
    "plt.subplot(1, 2, 2)\n",
    "plt.plot(lr_history, label='Learning Rate')\n",
    "plt.title('Learning Rate per Batch')\n",
    "plt.xlabel('Batch Number')\n",
    "plt.ylabel('Learning Rate')\n",
    "plt.tight_layout()\n",
    "plt.show()"
   ]
  },
  {
   "cell_type": "code",
   "execution_count": 23,
   "id": "ade1c891",
   "metadata": {},
   "outputs": [
    {
     "name": "stdout",
     "output_type": "stream",
     "text": [
      "              precision    recall  f1-score   support\n",
      "\n",
      "           0       0.64      1.00      0.78        18\n",
      "           1       0.00      0.00      0.00        10\n",
      "\n",
      "    accuracy                           0.64        28\n",
      "   macro avg       0.32      0.50      0.39        28\n",
      "weighted avg       0.41      0.64      0.50        28\n",
      "\n"
     ]
    },
    {
     "name": "stderr",
     "output_type": "stream",
     "text": [
      "C:\\Users\\HP\\anaconda3\\envs\\tf38\\lib\\site-packages\\sklearn\\metrics\\_classification.py:1471: UndefinedMetricWarning: Precision and F-score are ill-defined and being set to 0.0 in labels with no predicted samples. Use `zero_division` parameter to control this behavior.\n",
      "  _warn_prf(average, modifier, msg_start, len(result))\n",
      "C:\\Users\\HP\\anaconda3\\envs\\tf38\\lib\\site-packages\\sklearn\\metrics\\_classification.py:1471: UndefinedMetricWarning: Precision and F-score are ill-defined and being set to 0.0 in labels with no predicted samples. Use `zero_division` parameter to control this behavior.\n",
      "  _warn_prf(average, modifier, msg_start, len(result))\n",
      "C:\\Users\\HP\\anaconda3\\envs\\tf38\\lib\\site-packages\\sklearn\\metrics\\_classification.py:1471: UndefinedMetricWarning: Precision and F-score are ill-defined and being set to 0.0 in labels with no predicted samples. Use `zero_division` parameter to control this behavior.\n",
      "  _warn_prf(average, modifier, msg_start, len(result))\n"
     ]
    }
   ],
   "source": [
    "model.eval()\n",
    "all_preds, all_labels = [], []\n",
    "with torch.no_grad():\n",
    "    for inputs, labels in test_loader:\n",
    "        outputs = model(inputs)\n",
    "        preds = torch.argmax(outputs, dim=1)\n",
    "        all_preds.extend(preds.tolist())\n",
    "        all_labels.extend(labels.tolist())\n",
    "\n",
    "print(classification_report(all_labels, all_preds))"
   ]
  },
  {
   "cell_type": "code",
   "execution_count": 24,
   "id": "1ff73370-7461-462e-98d1-b95b26f552db",
   "metadata": {},
   "outputs": [
    {
     "data": {
      "image/png": "[encoded data removed]",
      "text/plain": [
       "<Figure size 800x600 with 2 Axes>"
      ]
     },
     "metadata": {},
     "output_type": "display_data"
    }
   ],
   "source": [
    "import seaborn as sns\n",
    "from sklearn.metrics import confusion_matrix\n",
    "\n",
    "plt.figure(figsize=(8, 6))\n",
    "sns.heatmap(confusion_matrix(all_labels, all_preds), annot=True, fmt='d', cmap='Blues',\n",
    "            xticklabels=['Non-Hateful', 'Hateful'], yticklabels=['Non-Hateful', 'Hateful'])\n",
    "plt.title(\"Logistic Regression Confusion Matrix\")\n",
    "plt.xlabel(\"Predicted\")\n",
    "plt.ylabel(\"True\")\n",
    "plt.tight_layout()\n",
    "plt.show()\n"
   ]
  }
 ],
 "metadata": {
  "kernelspec": {
   "display_name": "Python (tf38)",
   "language": "python",
   "name": "tf38"
  },
  "language_info": {
   "codemirror_mode": {
    "name": "ipython",
    "version": 3
   },
   "file_extension": ".py",
   "mimetype": "text/x-python",
   "name": "python",
   "nbconvert_exporter": "python",
   "pygments_lexer": "ipython3",
   "version": "3.8.20"
  }
 },
 "nbformat": 4,
 "nbformat_minor": 5
}
